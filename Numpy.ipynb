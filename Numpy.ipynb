{
 "cells": [
  {
   "cell_type": "code",
   "execution_count": null,
   "metadata": {
    "scrolled": true
   },
   "outputs": [],
   "source": [
    "''' Numpy is Linear Algebra Library for Python, It is important for Machine Learning and Deep Learning because\n",
    "most of the libraries in Python rely on Numpy as their building block.\n",
    "It is very fast in performance as it is binding to C libraries'''\n",
    "# Main object of Numpy Array is Homogenous multidimensional Array"
   ]
  },
  {
   "cell_type": "code",
   "execution_count": 2,
   "metadata": {},
   "outputs": [],
   "source": [
    "# Numpy Arrays\n",
    "import numpy as np\n",
    "My_list=[2,4,6,8]"
   ]
  },
  {
   "cell_type": "code",
   "execution_count": 3,
   "metadata": {},
   "outputs": [
    {
     "data": {
      "text/plain": [
       "array([2, 4, 6, 8])"
      ]
     },
     "execution_count": 3,
     "metadata": {},
     "output_type": "execute_result"
    }
   ],
   "source": [
    "# 1-D Array\n",
    "arr1=np.array(My_list)\n",
    "arr1"
   ]
  },
  {
   "cell_type": "code",
   "execution_count": 4,
   "metadata": {},
   "outputs": [],
   "source": [
    "list2=[[1,2],[12,3],[4,5]]"
   ]
  },
  {
   "cell_type": "code",
   "execution_count": 5,
   "metadata": {},
   "outputs": [
    {
     "data": {
      "text/plain": [
       "array([[ 1,  2],\n",
       "       [12,  3],\n",
       "       [ 4,  5]])"
      ]
     },
     "execution_count": 5,
     "metadata": {},
     "output_type": "execute_result"
    }
   ],
   "source": [
    "# Multi-Dimesional Array (List of Lists)\n",
    "arr2=np.array(list2)\n",
    "arr2"
   ]
  },
  {
   "cell_type": "code",
   "execution_count": null,
   "metadata": {},
   "outputs": [],
   "source": [
    "'''Methods for Creating Numpy arrays'''\n",
    "\n",
    "# Using arange\n",
    "arr=np.arange(0,11)\n",
    "arr1=np.arange(0,11,2)\n",
    "\n",
    "#To generate array of all Zeroes\n",
    "np.zeros((5,5))\n",
    "\n",
    "#To generate array of all Ones\n",
    "np.ones((3,2))\n",
    "\n",
    "# Using linspace\n",
    "arr_linspace=np.linspace(5,20,6)\n",
    "\n",
    "# creating identity matrix using Numpy\n",
    "arr_i=np.eye(5)\n",
    "\n",
    "# creating arry of random numbers\n",
    "arr_random=np.random.rand(2)\n",
    "arr_random2=np.random.randint(5,50,5)"
   ]
  },
  {
   "cell_type": "code",
   "execution_count": null,
   "metadata": {},
   "outputs": [],
   "source": [
    "''' Some Methods for Numpy Arrays '''\n",
    "#Reshape\n",
    "temp=np.arange(10,50,5)\n",
    "temp.reshape(4,2)\n",
    "\n",
    "# To find max from array\n",
    "temp.max()\n",
    "\n",
    "# To find min from array\n",
    "temp.min()\n",
    "\n",
    "# index of maximum value\n",
    "temp.argmax()\n",
    "\n",
    "# index of min value\n",
    "temp.argmin()\n",
    "\n",
    "#to check size or dimensions\n",
    "temp.shape\n",
    "\n",
    "#to know tha datatype of array\n",
    "temp.dtype"
   ]
  },
  {
   "cell_type": "code",
   "execution_count": null,
   "metadata": {},
   "outputs": [],
   "source": [
    "''' Indexing and Slicing of Array'''\n",
    "arr=np.arange(1,50,2)\n",
    "\n",
    "#Acessing 3rd element of Array\n",
    "arr[3]\n",
    "\n",
    "# Slicing of Array element\n",
    "arr[1:5]\n",
    "arr[6:]\n",
    "arr[:3]=100\n",
    "\n",
    "arr=np.arange(0,11)\n",
    "arr2=arr[:3]\n",
    "arr2[:]=52\n",
    "\n",
    "''' Numpy does not make copies it just make a view or refrece to same to same object\n",
    "to save memory'''\n",
    "\n",
    "#To make copies of Array\n",
    "modified=arr[:3].copy()\n",
    "modified[:]=0\n",
    "\n",
    "arr_2d=np.array([[5,10,15],[20,25,30],[35,40,45]])\n",
    "\n",
    "#Indexing 2-D Array\n",
    "arr_2d[0][0]\n",
    "arr_2d[1]\n",
    "arr_2d[1][1]\n",
    "#single bracket Notation\n",
    "arr_2d[0,0]\n",
    "arr_2d[1,2]\n",
    "\n",
    "#Slicing Multidimensional arrya\n",
    "arr_2d[:2,:1]\n",
    "arr_2d[:2]"
   ]
  },
  {
   "cell_type": "code",
   "execution_count": null,
   "metadata": {},
   "outputs": [],
   "source": [
    "''' Conditional Selection'''\n",
    "arr=np.arange(1,11)\n",
    "\n",
    "bool_arr=arr>5\n",
    "arr[bool_arr]\n",
    "#    or\n",
    "arr[arr>5]\n",
    "\n",
    "#To check which element are less than 3\n",
    "arr[arr<3]"
   ]
  },
  {
   "cell_type": "code",
   "execution_count": null,
   "metadata": {},
   "outputs": [],
   "source": [
    "''' Numpy Operations '''\n",
    "arr=np.arange(1,11)\n",
    "\n",
    "#Addition of two arrays\n",
    "arr+arr\n",
    "\n",
    "#Subsration of two arrays\n",
    "arr-arr\n",
    "\n",
    "#Multiplication of two arrays\n",
    "arr*arr\n",
    "\n",
    "#Scalar Operations are performed (each element wise)\n",
    "arr+100\n",
    "arr*10\n",
    "arr-10\n",
    "arr/10\n",
    "arr/0 #(It encounter Warning instead of Error)\n",
    "arr/arr #(It encounter Warning instead of Error)\n",
    "arr**2"
   ]
  },
  {
   "cell_type": "code",
   "execution_count": null,
   "metadata": {},
   "outputs": [],
   "source": []
  }
 ],
 "metadata": {
  "kernelspec": {
   "display_name": "Python 3",
   "language": "python",
   "name": "python3"
  },
  "language_info": {
   "codemirror_mode": {
    "name": "ipython",
    "version": 3
   },
   "file_extension": ".py",
   "mimetype": "text/x-python",
   "name": "python",
   "nbconvert_exporter": "python",
   "pygments_lexer": "ipython3",
   "version": "3.7.4"
  }
 },
 "nbformat": 4,
 "nbformat_minor": 2
}
